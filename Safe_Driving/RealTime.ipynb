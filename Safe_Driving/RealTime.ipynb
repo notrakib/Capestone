{
 "cells": [
  {
   "cell_type": "code",
   "execution_count": 1,
   "metadata": {},
   "outputs": [],
   "source": [
    "import cv2\n",
    "import os\n",
    "import numpy as np\n",
    "import tensorflow as tf\n",
    "from skimage.transform import resize\n",
    "import winsound\n",
    "frequency = 1500\n",
    "duration = 500\n",
    "\n",
    "font_scale = 1.5\n",
    "font = cv2.FONT_HERSHEY_PLAIN\n",
    "Xception = tf.keras.models.load_model('SavedModels/xceptionNew.h5')\n",
    "\n",
    "cascPathface = os.path.dirname(cv2.__file__) + \"/data/haarcascade_frontalface_alt2.xml\"\n",
    "cascPatheyes = os.path.dirname(cv2.__file__) + \"/data/haarcascade_eye_tree_eyeglasses.xml\"\n",
    "\n",
    "faceCascade = cv2.CascadeClassifier(cascPathface)\n",
    "eyeCascade = cv2.CascadeClassifier(cascPatheyes)\n",
    "\n",
    "status = ['Anger', 'Closed_Eyes', 'Happy', 'Neutral', 'Open_Eyes', 'Yawn']"
   ]
  },
  {
   "cell_type": "code",
   "execution_count": 2,
   "metadata": {},
   "outputs": [],
   "source": [
    "a = []\n",
    "b=[]\n",
    "x = 0\n",
    "video_capture = cv2.VideoCapture(0)\n",
    "while True:\n",
    "    # Capture frame-by-frame\n",
    "    ret, frame = video_capture.read()\n",
    "    gray = cv2.cvtColor(frame, cv2.COLOR_BGR2GRAY)\n",
    "    faces = faceCascade.detectMultiScale(gray,\n",
    "                                         scaleFactor=1.1,\n",
    "                                         minNeighbors=5,\n",
    "                                         minSize=(60, 60),\n",
    "                                         flags=cv2.CASCADE_SCALE_IMAGE)\n",
    "    for (x,y,w,h) in faces:\n",
    "        cv2.rectangle(frame, (x, y), (x + w, y + h),(0,255,0), 2)\n",
    "        faceROI = frame[y:y+h,x:x+w]\n",
    "        resized_face = resize(faceROI, (224, 224, 3))\n",
    "        final_face = np.expand_dims(resized_face,axis = 0)\n",
    "        pred_face = Xception.predict(final_face)\n",
    "        current_status = status[np.argmax(pred_face)]\n",
    "        a.append(current_status)   \n",
    "        if len(a) == 10:\n",
    "            for i in range(0,6):\n",
    "                if a[i]=='Yawn' and a[i+1]=='Yawn' and a[i+2]=='Yawn' and a[i+3]=='Yawn':\n",
    "                    x=1\n",
    "                    winsound.Beep(frequency, duration)\n",
    "                elif a[i]=='Closed_Eyes' and a[i+1]=='Closed_Eyes' and a[i+2]=='Closed_Eyes' and a[i+3]=='Closed_Eyes':\n",
    "                    x=2\n",
    "                    winsound.Beep(frequency, duration)\n",
    "                elif a[i]=='Anger' and a[i+1]=='Anger' and a[i+2]=='Anger' and a[i+3]=='Anger':\n",
    "                    x=3\n",
    "                    winsound.Beep(frequency, duration)\n",
    "                elif a[i]=='Happy' and a[i+1]=='Happy' and a[i+2]=='Happy' and a[i+3]=='Happy':\n",
    "                    x=4\n",
    "                    winsound.Beep(frequency, duration)\n",
    "                else:\n",
    "                    x=0\n",
    "            a = []\n",
    "        cv2.putText(frame, current_status, (100, 150) ,font, 3, (0,0,255), 2, cv2.LINE_4)\n",
    "        eyes = eyeCascade.detectMultiScale(faceROI)\n",
    "        for (x2, y2, w2, h2) in eyes:\n",
    "            cv2.rectangle(faceROI, (x2, y2), (x2 + w2, y2 + h2),(0,255,0), 2)\n",
    "            eyeROI = faceROI[y2:y2+h2,x2:x2+w2]\n",
    "            resized_face_eye = resize(eyeROI, (224, 224, 3))\n",
    "            final_face_eye = np.expand_dims(resized_face_eye,axis = 0)\n",
    "            pred_face_eye = Xception.predict(final_face_eye)\n",
    "            current_status_eye = status[np.argmax(pred_face_eye)]\n",
    "            b.append(current_status_eye)\n",
    "            if len(b) == 10:\n",
    "                for j in range(0,6):\n",
    "                    if b[j]=='Open_Eyes' and b[j+1]=='Open_Eyes' and b[j+2]=='Open_Eyes' and b[j+3]=='Open_Eyes':\n",
    "                        x=1\n",
    "                    if b[j]=='Closed_Eyes' and b[j+1]=='Closed_Eyes' and b[j+2]=='Closed_Eyes' and b[j+3]=='Closed_Eyes':\n",
    "                        x=2\n",
    "                        winsound.Beep(frequency, duration)\n",
    "                    if b[j]!='Open_Eyes' and b[j+1]!='Open_Eyes' and b[j+2]!='Open_Eyes' and b[j+3]!='Open_Eyes':\n",
    "                        x=2\n",
    "                        winsound.Beep(frequency, duration)\n",
    "                b = []\n",
    "            cv2.putText(faceROI, current_status_eye, (100, 150) ,font, 3, (0,0,255), 2, cv2.LINE_4)\n",
    "\n",
    "        # Display the resulting frame\n",
    "    cv2.imshow('Video', frame)\n",
    "    if cv2.waitKey(1) & 0xFF == ord('q'):\n",
    "        break\n",
    "video_capture.release()\n",
    "cv2.destroyAllWindows()"
   ]
  },
  {
   "cell_type": "code",
   "execution_count": 7,
   "metadata": {},
   "outputs": [
    {
     "name": "stdout",
     "output_type": "stream",
     "text": [
      "Enter the time in seconds: 10\n",
      "ami10\n"
     ]
    }
   ],
   "source": [
    "import time\n",
    "import cv2\n",
    "\n",
    "def countdown(t):\n",
    "    while t:\n",
    "        mins, secs = divmod(t, 60)\n",
    "        timer = '{:02d}:{:02d}'.format(mins, secs)\n",
    "        print(timer, end=\"\\r\")\n",
    "        print(\"ami\")\n",
    "        return\n",
    "        time.sleep(1)\n",
    "        t -= 1\n",
    "    print('Fire in the hole!!')\n",
    "t = input(\"Enter the time in seconds: \")\n",
    "countdown(int(t))\n"
   ]
  },
  {
   "cell_type": "code",
   "execution_count": 10,
   "metadata": {},
   "outputs": [
    {
     "name": "stdout",
     "output_type": "stream",
     "text": [
      "1\n"
     ]
    }
   ],
   "source": [
    "def auto():    \n",
    "    for i in range(1,10):\n",
    "        print(i)\n",
    "        return\n",
    "auto()"
   ]
  },
  {
   "cell_type": "code",
   "execution_count": 2,
   "metadata": {},
   "outputs": [
    {
     "name": "stdout",
     "output_type": "stream",
     "text": [
      "1\n",
      "4\n",
      "4\n",
      "4\n",
      "4\n",
      "4\n",
      "[0, 1, 2, 3, 4, 5, 6, 7, 8, 9]\n",
      "4\n",
      "4\n",
      "4\n",
      "4\n",
      "4\n",
      "4\n",
      "[10, 11, 12, 13, 14, 15, 16, 17, 18, 19]\n",
      "4\n",
      "4\n",
      "4\n",
      "4\n",
      "4\n",
      "4\n",
      "[20, 21, 22, 23, 24, 25, 26, 27, 28, 29]\n",
      "4\n",
      "4\n",
      "4\n",
      "4\n",
      "3\n",
      "4\n",
      "[30, 31, 32, 33, 34, 35, 36, 37, 38, 39]\n",
      "4\n",
      "4\n",
      "4\n",
      "4\n",
      "2\n",
      "4\n",
      "[40, 41, 42, 43, 44, 45, 46, 47, 48, 49]\n",
      "4\n",
      "4\n",
      "4\n",
      "4\n",
      "3\n",
      "4\n",
      "[50, 51, 52, 53, 54, 55, 56, 57, 58, 59]\n",
      "4\n",
      "4\n",
      "4\n",
      "4\n",
      "3\n",
      "4\n",
      "[60, 61, 62, 63, 64, 65, 66, 67, 68, 69]\n",
      "4\n",
      "4\n",
      "4\n",
      "4\n",
      "4\n",
      "4\n",
      "[70, 71, 72, 73, 74, 75, 76, 77, 78, 79]\n",
      "4\n",
      "4\n",
      "4\n",
      "4\n",
      "4\n",
      "4\n",
      "[80, 81, 82, 83, 84, 85, 86, 87, 88, 89]\n",
      "4\n",
      "4\n",
      "4\n",
      "4\n",
      "4\n",
      "4\n",
      "[90, 91, 92, 93, 94, 95, 96, 97, 98, 99]\n"
     ]
    }
   ],
   "source": [
    "import winsound\n",
    "\n",
    "frequency = 1500\n",
    "duration = 500\n",
    "\n",
    "a = []\n",
    "x = 0\n",
    "for i in range(0,100):\n",
    "    a.append(i)   \n",
    "    if len(a) == 10:\n",
    "        for i in range(0,6):\n",
    "            if a[i]==0 and a[i+1]==1 and a[i+2]==2 and a[i+3]==3:\n",
    "                x=1\n",
    "                winsound.Beep(frequency, duration)\n",
    "            elif a[i]==44 and a[i+1]==45 and a[i+2]==46 and a[i+3]==47:\n",
    "                x=2\n",
    "                winsound.Beep(frequency, duration)\n",
    "            elif a[i]==34 and a[i+1]==35 and a[i+2]==36 and a[i+3]==37:\n",
    "                x=3\n",
    "                winsound.Beep(frequency, duration)\n",
    "            elif a[i]==54 and a[i+1]==55 and a[i+2]==56 and a[i+3]==57:\n",
    "                x=3\n",
    "                winsound.Beep(frequency, duration)\n",
    "            elif a[i]==64 and a[i+1]==65 and a[i+2]==66 and a[i+3]==67:\n",
    "                x=3\n",
    "                winsound.Beep(frequency, duration)\n",
    "            else:\n",
    "                x=4\n",
    "            print(x)\n",
    "        print(a)\n",
    "        a = []"
   ]
  },
  {
   "cell_type": "code",
   "execution_count": 21,
   "metadata": {},
   "outputs": [],
   "source": [
    "import winsound\n",
    "frequency = 1500  # Set Frequency To 2500 Hertz\n",
    "duration = 500  # Set Duration To 1000 ms == 1 second\n",
    "winsound.Beep(frequency, duration)"
   ]
  },
  {
   "cell_type": "code",
   "execution_count": 2,
   "metadata": {},
   "outputs": [],
   "source": [
    "stop = True"
   ]
  },
  {
   "cell_type": "code",
   "execution_count": 3,
   "metadata": {},
   "outputs": [
    {
     "data": {
      "text/plain": [
       "True"
      ]
     },
     "execution_count": 3,
     "metadata": {},
     "output_type": "execute_result"
    }
   ],
   "source": [
    "stop"
   ]
  },
  {
   "cell_type": "code",
   "execution_count": null,
   "metadata": {},
   "outputs": [],
   "source": []
  }
 ],
 "metadata": {
  "kernelspec": {
   "display_name": "Python 3",
   "language": "python",
   "name": "python3"
  },
  "language_info": {
   "codemirror_mode": {
    "name": "ipython",
    "version": 3
   },
   "file_extension": ".py",
   "mimetype": "text/x-python",
   "name": "python",
   "nbconvert_exporter": "python",
   "pygments_lexer": "ipython3",
   "version": "3.8.5"
  }
 },
 "nbformat": 4,
 "nbformat_minor": 4
}
