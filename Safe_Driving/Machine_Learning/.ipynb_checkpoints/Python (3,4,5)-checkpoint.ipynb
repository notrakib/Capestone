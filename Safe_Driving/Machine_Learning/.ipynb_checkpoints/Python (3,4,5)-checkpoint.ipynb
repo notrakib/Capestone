{
 "cells": [
  {
   "cell_type": "code",
   "execution_count": 7,
   "metadata": {},
   "outputs": [
    {
     "name": "stdout",
     "output_type": "stream",
     "text": [
      "(1, 11, 21) 2 3\n",
      "(1, 11, 21) nota 2 notb 3\n",
      "1.50\n"
     ]
    }
   ],
   "source": [
    "### Basic\n",
    "a=1,11,21\n",
    "b=2\n",
    "c=3\n",
    "r,t,y=a,b,c\n",
    "print(r,t,y)\n",
    "print(str(r)+\" nota \"+str(t)+\" notb \"+str(y))\n",
    "print(\"%0.2f\"%(15/10))"
   ]
  },
  {
   "cell_type": "markdown",
   "metadata": {},
   "source": [
    "# List\n",
    "list1.count(value)\n",
    "list1.index(value)\n",
    "list1.extend(list2)\n",
    "list1.remove(list1[index])\n",
    "list1.remove[value]\n",
    "list1.pop(value)\n",
    "list1.sort(reverse=True)\n",
    "\n",
    "# Dictionary\n",
    "dict1.setdefault('index', value)\n",
    "dict1.update(dict2)"
   ]
  },
  {
   "cell_type": "code",
   "execution_count": 2,
   "metadata": {},
   "outputs": [
    {
     "name": "stdout",
     "output_type": "stream",
     "text": [
      "Ami\n"
     ]
    }
   ],
   "source": [
    "### strip()\n",
    "a= \"         Ami      \"\n",
    "print(a.strip())"
   ]
  },
  {
   "cell_type": "code",
   "execution_count": 3,
   "metadata": {},
   "outputs": [
    {
     "data": {
      "text/plain": [
       "'a mbb'"
      ]
     },
     "execution_count": 3,
     "metadata": {},
     "output_type": "execute_result"
    }
   ],
   "source": [
    "### replace() within str\n",
    "c = 'a mii'\n",
    "a=c.replace('i', 'b')\n",
    "a"
   ]
  },
  {
   "cell_type": "code",
   "execution_count": null,
   "metadata": {},
   "outputs": [],
   "source": [
    "### count(x)\n",
    "a=\"adsvaaa\"\n",
    "a.count(\"a\")"
   ]
  },
  {
   "cell_type": "code",
   "execution_count": 63,
   "metadata": {},
   "outputs": [
    {
     "name": "stdout",
     "output_type": "stream",
     "text": [
      "(1, 11, 11, 21, 21, 31, 41)\n",
      "[1, 11, 11, 21, 21, 31, 41]\n",
      "{1, 41, 11, 21, 31}\n"
     ]
    }
   ],
   "source": [
    "### List, Tuple, Set\n",
    "a= [1,11,11,21,21,31,41]\n",
    "b= tuple(a)\n",
    "print(b)\n",
    "c=list(b)\n",
    "print(c)\n",
    "d=set(c)\n",
    "print(d)"
   ]
  },
  {
   "cell_type": "code",
   "execution_count": 58,
   "metadata": {},
   "outputs": [
    {
     "name": "stdout",
     "output_type": "stream",
     "text": [
      "4\n",
      "[[3, 4, 3, 2], [5, 6, 2, 8]]\n",
      "4\n",
      "[(3, 4, 3, 2), (5, 6, 2, 8)]\n"
     ]
    }
   ],
   "source": [
    "### Detail Accessing of list in list and Array\n",
    "li=[[1,2,5,4],[3,4,3,2],[5,6,2,8],[7,8,2,0]]\n",
    "print(li[1][1])\n",
    "print(li[1:3])\n",
    "a=[(1,2,5,4),(3,4,3,2),(5,6,2,8),(7,8,2,0)]\n",
    "print(a[1][1])\n",
    "print(a[1:3])"
   ]
  },
  {
   "cell_type": "code",
   "execution_count": 19,
   "metadata": {},
   "outputs": [
    {
     "name": "stdout",
     "output_type": "stream",
     "text": [
      "{(1, 10): 'ami', 2: 'tumi', 3: 'amra', 4: {'amra': 'tomra'}, 5: [1, 2]}\n",
      "(1, 10) ami\n",
      "2 tumi\n",
      "3 amra\n",
      "4 {'amra': 'tomra'}\n",
      "5 [1, 2]\n",
      "ami\n",
      "tumi\n",
      "amra\n",
      "{'amra': 'tomra'}\n",
      "[1, 2]\n",
      "(1, 10)\n",
      "2\n",
      "3\n",
      "4\n",
      "5\n",
      "tumi\n",
      "dict_keys([(1, 10), 2, 3, 4, 5])\n",
      "dict_values(['ami', 'tumi', 'amra', {'amra': 'tomra'}, [1, 2]])\n"
     ]
    }
   ],
   "source": [
    "### Dictionary\n",
    "a={\n",
    "    (1,10) : \"ami\",\n",
    "    2 : \"tumi\",\n",
    "    3 : \"amra\",\n",
    "    4 : {\"amra\" : \"tomra\"},\n",
    "    5 : [1,2]\n",
    "}\n",
    "print(a)\n",
    "for key, value in a.items() :\n",
    "    print(key, value)\n",
    "for i in a.values():\n",
    "    print(i)\n",
    "for i in a.keys():\n",
    "    print(i)\n",
    "print(a[2])\n",
    "print(a.keys())\n",
    "print(a.values())"
   ]
  },
  {
   "cell_type": "code",
   "execution_count": null,
   "metadata": {},
   "outputs": [],
   "source": [
    "### Dictionary\n",
    "keys = {'a', 'e', 'i', 'o', 'u'}\n",
    "value = 'vowel'\n",
    "\n",
    "vowels = dict.fromkeys(keys, value)\n",
    "print(vowels)"
   ]
  },
  {
   "cell_type": "code",
   "execution_count": null,
   "metadata": {},
   "outputs": [],
   "source": [
    "### Dictionary Update\n",
    "dict1 = {'Bangladesh':'Dhaka','India':'Delhi'}\n",
    "dict2 = {'China':'Beijing'}\n",
    "\n",
    "dict1.update(dict2)\n",
    "print(dict1)"
   ]
  },
  {
   "cell_type": "code",
   "execution_count": 37,
   "metadata": {},
   "outputs": [
    {
     "name": "stdout",
     "output_type": "stream",
     "text": [
      "{'name': 'Alice', 'age': 22, 'cgpa': 3.5}\n",
      "3.5\n",
      "3.5\n"
     ]
    }
   ],
   "source": [
    "person = {'name': 'Alice', 'age': 22}\n",
    "\n",
    "cgpa1 = person.setdefault('cgpa', 3.5)\n",
    "print(person)\n",
    "print(cgpa1)\n",
    "print(person['cgpa'])"
   ]
  },
  {
   "cell_type": "code",
   "execution_count": null,
   "metadata": {},
   "outputs": [],
   "source": [
    "### While\n",
    "a = 3\n",
    "while a > 0:\n",
    "    for i in range(8,18,2):\n",
    "        if i < 10:\n",
    "            print(\"Noob\")\n",
    "        elif i == 15:\n",
    "            print(\"Semi-Pro\")\n",
    "        elif i > 20:\n",
    "            print(\"Semi-Noob\")\n",
    "        else:\n",
    "            print(\"Pro\")\n",
    "    a -= 1"
   ]
  },
  {
   "cell_type": "code",
   "execution_count": null,
   "metadata": {},
   "outputs": [],
   "source": [
    "### List to int for given value\n",
    "a = [1, 21, 3]\n",
    "\n",
    "for i in range(len(a)):\n",
    "    if a[i] < 10:\n",
    "        print(\"Noob\")\n",
    "    elif a[i] == 15:\n",
    "        print(\"Semi-Pro\")\n",
    "    elif a[i] > 20:\n",
    "        print(\"Semi-Noob\")\n",
    "    else:\n",
    "        print(\"Pro\")"
   ]
  },
  {
   "cell_type": "code",
   "execution_count": null,
   "metadata": {},
   "outputs": [],
   "source": [
    "### input in Dictionary\n",
    "total = []\n",
    "n = int(input())\n",
    "for i in range(n):\n",
    "    a = input()\n",
    "    b = input()\n",
    "    c = input()\n",
    "    total.append({\n",
    "        \"a\" : a,\n",
    "        \"b\" : b,\n",
    "        \"c\" : c\n",
    "    })\n",
    "print(total)"
   ]
  },
  {
   "cell_type": "code",
   "execution_count": 79,
   "metadata": {},
   "outputs": [
    {
     "name": "stdout",
     "output_type": "stream",
     "text": [
      "Noob\n",
      "Pro\n",
      "Pro\n",
      "Pro\n",
      "Pro\n"
     ]
    }
   ],
   "source": [
    "### Range\n",
    "for i in range(8,18,2):\n",
    "    if i < 10:\n",
    "        print(\"Noob\")\n",
    "    elif i == 15:\n",
    "        print(\"Semi-Pro\")\n",
    "    elif i > 20:\n",
    "        print(\"Semi-Noob\")\n",
    "    else:\n",
    "        print(\"Pro\")"
   ]
  },
  {
   "cell_type": "code",
   "execution_count": null,
   "metadata": {},
   "outputs": [],
   "source": [
    "### Format\n",
    "x=\"Python\"\n",
    "y=\"Good\"\n",
    "print(\"I Hate {} {}\".format(y,x))\n",
    "print(f\"I Hate {x} {y}\")"
   ]
  },
  {
   "cell_type": "code",
   "execution_count": null,
   "metadata": {},
   "outputs": [],
   "source": [
    "### Single int input\n",
    "a = int(input())\n",
    "\n",
    "if a < 10:\n",
    "    print(\"Noob\")\n",
    "elif a == 15:\n",
    "    print(\"Semi-Pro\")\n",
    "elif a > 20:\n",
    "    print(\"Semi-Noob\")\n",
    "else:\n",
    "    print(\"Pro\")"
   ]
  },
  {
   "cell_type": "code",
   "execution_count": null,
   "metadata": {},
   "outputs": [],
   "source": [
    "### Single str input\n",
    "a = input()\n",
    "type(a)\n",
    "\n",
    "if a == \"1\":\n",
    "    print(\"Noob\")\n",
    "elif a == \"2\":\n",
    "    print(\"Semi-Pro\")\n",
    "elif a == \"3\":\n",
    "    print(\"Semi-Noob\")\n",
    "else:\n",
    "    print(\"Pro\")"
   ]
  },
  {
   "cell_type": "code",
   "execution_count": 88,
   "metadata": {
    "scrolled": true
   },
   "outputs": [
    {
     "name": "stdout",
     "output_type": "stream",
     "text": [
      "afaf\n",
      "Noob\n",
      "Pro\n",
      "Noob\n",
      "Pro\n"
     ]
    }
   ],
   "source": [
    "### Multiple str input\n",
    "b = input().split()\n",
    "\n",
    "for i in b:\n",
    "    if i == \"a\":\n",
    "        print(\"Noob\")\n",
    "    elif i == \"b\":\n",
    "        print(\"Semi-Pro\")\n",
    "    elif i == \"c\":\n",
    "        print(\"Semi-Noob\")\n",
    "    else:\n",
    "        print(\"Pro\")"
   ]
  },
  {
   "cell_type": "code",
   "execution_count": null,
   "metadata": {},
   "outputs": [],
   "source": [
    "### Multiple int input\n",
    "b= input().split()\n",
    "a= [int(i) for i in b]\n",
    "for i in a:\n",
    "    if i < 10:\n",
    "        print(\"Noob\")\n",
    "    elif i == 15:\n",
    "        print(\"Semi-Pro\")\n",
    "    elif i > 20:\n",
    "        print(\"Semi-Noob\")\n",
    "    else:\n",
    "        print(\"Pro\")"
   ]
  },
  {
   "cell_type": "code",
   "execution_count": null,
   "metadata": {},
   "outputs": [],
   "source": [
    "### Infinite input of str\n",
    "import sys\n",
    "a= []\n",
    "for n in range(sys.maxsize):\n",
    "    b=input()\n",
    "    if b!=\"end\":\n",
    "        a.append(b)\n",
    "    else:\n",
    "        break\n",
    "\n",
    "print(a)\n",
    "\n",
    "for i in a:\n",
    "    if i == \"a\":\n",
    "        print(\"Noob\")\n",
    "    elif i == \"b\":\n",
    "        print(\"Semi-Pro\")\n",
    "    elif i == \"c\":\n",
    "        print(\"Semi-Noob\")\n",
    "    else:\n",
    "        print(\"Pro\")"
   ]
  },
  {
   "cell_type": "code",
   "execution_count": 104,
   "metadata": {},
   "outputs": [
    {
     "name": "stdout",
     "output_type": "stream",
     "text": [
      "1\n",
      "2\n",
      "(14, 3, 4, 5)\n",
      "15\n",
      "{'m': 12, 'n': 11}\n"
     ]
    }
   ],
   "source": [
    "### Arguments\n",
    "def prints(a,b, *args,c = 10, **kwargs):\n",
    "    print(a)\n",
    "    print(b)\n",
    "    print(args)\n",
    "    print(c)\n",
    "    print(kwargs)\n",
    "prints(1,2,14,3,4,5,c=15,m=12,n=11)"
   ]
  },
  {
   "cell_type": "code",
   "execution_count": 8,
   "metadata": {},
   "outputs": [
    {
     "name": "stdout",
     "output_type": "stream",
     "text": [
      "30\n"
     ]
    }
   ],
   "source": [
    "### Accessing Global variable\n",
    "g = 30\n",
    "def outer():\n",
    "    print(g)\n",
    "outer()"
   ]
  },
  {
   "cell_type": "code",
   "execution_count": 12,
   "metadata": {},
   "outputs": [
    {
     "name": "stdout",
     "output_type": "stream",
     "text": [
      "40\n"
     ]
    }
   ],
   "source": [
    "### Changing Global variable\n",
    "g = 30\n",
    "def outer():\n",
    "    global g\n",
    "    g+=10\n",
    "    print(g)\n",
    "outer()"
   ]
  },
  {
   "cell_type": "code",
   "execution_count": 16,
   "metadata": {},
   "outputs": [
    {
     "name": "stdout",
     "output_type": "stream",
     "text": [
      "20\n",
      "20\n"
     ]
    }
   ],
   "source": [
    "### Changing NonLocal variable\n",
    "def outer():\n",
    "    x=10\n",
    "    \n",
    "    def inner(): \n",
    "        nonlocal x\n",
    "        x+=10\n",
    "        print(x)\n",
    "        \n",
    "    inner()\n",
    "    print(x)\n",
    "outer()"
   ]
  },
  {
   "cell_type": "code",
   "execution_count": 14,
   "metadata": {},
   "outputs": [
    {
     "name": "stdout",
     "output_type": "stream",
     "text": [
      "4\n",
      "5\n",
      "9 -1\n"
     ]
    }
   ],
   "source": [
    "### Function\n",
    "def func(x,y):\n",
    "    a= x+y\n",
    "    b=x-y\n",
    "    return a,b\n",
    "add,sub= func(int(input()),int(input()))\n",
    "print(str(add)+\" \"+str(sub))"
   ]
  },
  {
   "cell_type": "code",
   "execution_count": 19,
   "metadata": {},
   "outputs": [
    {
     "data": {
      "text/plain": [
       "9"
      ]
     },
     "execution_count": 19,
     "metadata": {},
     "output_type": "execute_result"
    }
   ],
   "source": [
    "### Lambda Function\n",
    "mul= lambda a,b : a**b\n",
    "mul(3,2)"
   ]
  },
  {
   "cell_type": "code",
   "execution_count": 30,
   "metadata": {},
   "outputs": [
    {
     "name": "stdout",
     "output_type": "stream",
     "text": [
      "[('d', 10, 6), ('c', 3, 7), ('b', 5, 8), ('a', 1, 9)]\n"
     ]
    }
   ],
   "source": [
    "### Lambda Example\n",
    "a = [(\"a\",1,9),(\"b\",5,8),(\"c\",3,7),(\"d\",10,6)]\n",
    "\n",
    "b=sorted(a, key=lambda a : a[2])\n",
    "print(b)"
   ]
  },
  {
   "cell_type": "code",
   "execution_count": 17,
   "metadata": {},
   "outputs": [
    {
     "name": "stdout",
     "output_type": "stream",
     "text": [
      "[0, 4, 8, 12] {0: 0, 2: 4, 4: 8, 6: 12} {0, 8, 4, 12}\n"
     ]
    }
   ],
   "source": [
    "### Comprehension in List, Tuple, Set\n",
    "a=[i*2 for i in range(8) if i%2 == 0]\n",
    "b={i:i*2 for i in range(8) if i%2 == 0}\n",
    "c={i*2 for i in range(8) if i%2 == 0}\n",
    "print(a,b,c)"
   ]
  },
  {
   "cell_type": "code",
   "execution_count": 8,
   "metadata": {},
   "outputs": [
    {
     "name": "stdout",
     "output_type": "stream",
     "text": [
      "Done\n"
     ]
    }
   ],
   "source": [
    "### Function in Function\n",
    "a={\n",
    "    \"Rakib\" : 1,\n",
    "    \"Fahad\" : 2,\n",
    "    \"Sabbir\": 3\n",
    "}\n",
    "\n",
    "def sec(username,password):\n",
    "    if username in a.keys() and password==a[username]:\n",
    "        print(\"Done\")\n",
    "    else:\n",
    "        print(\"Not Authorized\")\n",
    "\n",
    "sec(\"Rakib\",1)"
   ]
  },
  {
   "cell_type": "code",
   "execution_count": 28,
   "metadata": {},
   "outputs": [
    {
     "name": "stdout",
     "output_type": "stream",
     "text": [
      "11\n"
     ]
    }
   ],
   "source": [
    "### Function in Function\n",
    "a={\n",
    "    \"Rakib\" : 1,\n",
    "    \"Fahad\" : 2,\n",
    "    \"Sabbir\": 3\n",
    "}\n",
    "\n",
    "def sec(func):\n",
    "    def wrapper(username,password,*args,**kwargs):\n",
    "        if username in a.keys() and password==a[username]:\n",
    "            func(*args,**kwargs)\n",
    "        else:\n",
    "            print(\"Not Authorized\")\n",
    "    return wrapper\n",
    "\n",
    "def add(m,n):\n",
    "    print(m+n)\n",
    "x=sec(add)\n",
    "x(\"Rakib\", 1,5,6)"
   ]
  },
  {
   "cell_type": "code",
   "execution_count": 30,
   "metadata": {},
   "outputs": [
    {
     "name": "stdout",
     "output_type": "stream",
     "text": [
      "11\n"
     ]
    }
   ],
   "source": [
    "### Function in Function\n",
    "a={\n",
    "    \"Rakib\" : 1,\n",
    "    \"Fahad\" : 2,\n",
    "    \"Sabbir\": 3\n",
    "}\n",
    "\n",
    "def sec(func):\n",
    "    def wrapper(username,password,*args,**kwargs):\n",
    "        if username in a.keys() and password==a[username]:\n",
    "            func(*args,**kwargs)\n",
    "        else:\n",
    "            print(\"Not Authorized\")\n",
    "    return wrapper\n",
    "\n",
    "@sec\n",
    "def add(m,n):\n",
    "    print(m+n)\n",
    "add(\"Rakib\", 1,5,6)"
   ]
  },
  {
   "cell_type": "code",
   "execution_count": 29,
   "metadata": {},
   "outputs": [
    {
     "name": "stdout",
     "output_type": "stream",
     "text": [
      "11\n"
     ]
    }
   ],
   "source": [
    "### Extra\n",
    "def sec(username,password,*args,**kwargs):\n",
    "    if username in a.keys() and password==a[username]:\n",
    "        add(*args,**kwargs)\n",
    "    else:\n",
    "        print(\"Not Authorized\")\n",
    "\n",
    "def add(m,n):\n",
    "    print(m+n)\n",
    "sec(\"Rakib\", 1,5,6)"
   ]
  },
  {
   "cell_type": "code",
   "execution_count": null,
   "metadata": {},
   "outputs": [],
   "source": []
  }
 ],
 "metadata": {
  "kernelspec": {
   "display_name": "Python 3",
   "language": "python",
   "name": "python3"
  },
  "language_info": {
   "codemirror_mode": {
    "name": "ipython",
    "version": 3
   },
   "file_extension": ".py",
   "mimetype": "text/x-python",
   "name": "python",
   "nbconvert_exporter": "python",
   "pygments_lexer": "ipython3",
   "version": "3.8.5"
  }
 },
 "nbformat": 4,
 "nbformat_minor": 4
}
