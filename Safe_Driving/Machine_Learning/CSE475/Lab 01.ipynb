{
 "cells": [
  {
   "cell_type": "code",
   "execution_count": 54,
   "metadata": {
    "scrolled": true
   },
   "outputs": [],
   "source": [
    "import pandas as pd\n",
    "import numpy as np"
   ]
  },
  {
   "cell_type": "code",
   "execution_count": 55,
   "metadata": {},
   "outputs": [
    {
     "data": {
      "text/html": [
       "<div>\n",
       "<style scoped>\n",
       "    .dataframe tbody tr th:only-of-type {\n",
       "        vertical-align: middle;\n",
       "    }\n",
       "\n",
       "    .dataframe tbody tr th {\n",
       "        vertical-align: top;\n",
       "    }\n",
       "\n",
       "    .dataframe thead th {\n",
       "        text-align: right;\n",
       "    }\n",
       "</style>\n",
       "<table border=\"1\" class=\"dataframe\">\n",
       "  <thead>\n",
       "    <tr style=\"text-align: right;\">\n",
       "      <th></th>\n",
       "      <th>gender</th>\n",
       "      <th>race/ethnicity</th>\n",
       "      <th>parental level of education</th>\n",
       "      <th>lunch</th>\n",
       "      <th>test preparation course</th>\n",
       "      <th>math score</th>\n",
       "      <th>reading score</th>\n",
       "      <th>writing score</th>\n",
       "    </tr>\n",
       "  </thead>\n",
       "  <tbody>\n",
       "    <tr>\n",
       "      <th>0</th>\n",
       "      <td>female</td>\n",
       "      <td>group B</td>\n",
       "      <td>bachelor's degree</td>\n",
       "      <td>standard</td>\n",
       "      <td>none</td>\n",
       "      <td>72</td>\n",
       "      <td>72</td>\n",
       "      <td>74</td>\n",
       "    </tr>\n",
       "    <tr>\n",
       "      <th>1</th>\n",
       "      <td>female</td>\n",
       "      <td>group C</td>\n",
       "      <td>some college</td>\n",
       "      <td>standard</td>\n",
       "      <td>completed</td>\n",
       "      <td>69</td>\n",
       "      <td>90</td>\n",
       "      <td>88</td>\n",
       "    </tr>\n",
       "    <tr>\n",
       "      <th>2</th>\n",
       "      <td>female</td>\n",
       "      <td>group B</td>\n",
       "      <td>master's degree</td>\n",
       "      <td>standard</td>\n",
       "      <td>none</td>\n",
       "      <td>90</td>\n",
       "      <td>95</td>\n",
       "      <td>93</td>\n",
       "    </tr>\n",
       "    <tr>\n",
       "      <th>3</th>\n",
       "      <td>male</td>\n",
       "      <td>group A</td>\n",
       "      <td>associate's degree</td>\n",
       "      <td>free/reduced</td>\n",
       "      <td>none</td>\n",
       "      <td>47</td>\n",
       "      <td>57</td>\n",
       "      <td>44</td>\n",
       "    </tr>\n",
       "    <tr>\n",
       "      <th>4</th>\n",
       "      <td>male</td>\n",
       "      <td>group C</td>\n",
       "      <td>some college</td>\n",
       "      <td>standard</td>\n",
       "      <td>none</td>\n",
       "      <td>76</td>\n",
       "      <td>78</td>\n",
       "      <td>75</td>\n",
       "    </tr>\n",
       "    <tr>\n",
       "      <th>5</th>\n",
       "      <td>female</td>\n",
       "      <td>group B</td>\n",
       "      <td>associate's degree</td>\n",
       "      <td>standard</td>\n",
       "      <td>none</td>\n",
       "      <td>71</td>\n",
       "      <td>83</td>\n",
       "      <td>78</td>\n",
       "    </tr>\n",
       "    <tr>\n",
       "      <th>6</th>\n",
       "      <td>female</td>\n",
       "      <td>group B</td>\n",
       "      <td>some college</td>\n",
       "      <td>standard</td>\n",
       "      <td>completed</td>\n",
       "      <td>88</td>\n",
       "      <td>95</td>\n",
       "      <td>92</td>\n",
       "    </tr>\n",
       "    <tr>\n",
       "      <th>7</th>\n",
       "      <td>male</td>\n",
       "      <td>group B</td>\n",
       "      <td>some college</td>\n",
       "      <td>free/reduced</td>\n",
       "      <td>none</td>\n",
       "      <td>40</td>\n",
       "      <td>43</td>\n",
       "      <td>39</td>\n",
       "    </tr>\n",
       "    <tr>\n",
       "      <th>8</th>\n",
       "      <td>male</td>\n",
       "      <td>group D</td>\n",
       "      <td>high school</td>\n",
       "      <td>free/reduced</td>\n",
       "      <td>completed</td>\n",
       "      <td>64</td>\n",
       "      <td>64</td>\n",
       "      <td>67</td>\n",
       "    </tr>\n",
       "    <tr>\n",
       "      <th>9</th>\n",
       "      <td>female</td>\n",
       "      <td>group B</td>\n",
       "      <td>high school</td>\n",
       "      <td>free/reduced</td>\n",
       "      <td>none</td>\n",
       "      <td>38</td>\n",
       "      <td>60</td>\n",
       "      <td>50</td>\n",
       "    </tr>\n",
       "  </tbody>\n",
       "</table>\n",
       "</div>"
      ],
      "text/plain": [
       "   gender race/ethnicity parental level of education         lunch  \\\n",
       "0  female        group B           bachelor's degree      standard   \n",
       "1  female        group C                some college      standard   \n",
       "2  female        group B             master's degree      standard   \n",
       "3    male        group A          associate's degree  free/reduced   \n",
       "4    male        group C                some college      standard   \n",
       "5  female        group B          associate's degree      standard   \n",
       "6  female        group B                some college      standard   \n",
       "7    male        group B                some college  free/reduced   \n",
       "8    male        group D                 high school  free/reduced   \n",
       "9  female        group B                 high school  free/reduced   \n",
       "\n",
       "  test preparation course  math score  reading score  writing score  \n",
       "0                    none          72             72             74  \n",
       "1               completed          69             90             88  \n",
       "2                    none          90             95             93  \n",
       "3                    none          47             57             44  \n",
       "4                    none          76             78             75  \n",
       "5                    none          71             83             78  \n",
       "6               completed          88             95             92  \n",
       "7                    none          40             43             39  \n",
       "8               completed          64             64             67  \n",
       "9                    none          38             60             50  "
      ]
     },
     "execution_count": 55,
     "metadata": {},
     "output_type": "execute_result"
    }
   ],
   "source": [
    "df = pd.read_csv(\"strange.csv\")\n",
    "df.head(10)"
   ]
  },
  {
   "cell_type": "code",
   "execution_count": 56,
   "metadata": {},
   "outputs": [
    {
     "name": "stdout",
     "output_type": "stream",
     "text": [
      "<class 'pandas.core.frame.DataFrame'>\n",
      "RangeIndex: 1000 entries, 0 to 999\n",
      "Data columns (total 8 columns):\n",
      " #   Column                       Non-Null Count  Dtype \n",
      "---  ------                       --------------  ----- \n",
      " 0   gender                       1000 non-null   object\n",
      " 1   race/ethnicity               1000 non-null   object\n",
      " 2   parental level of education  1000 non-null   object\n",
      " 3   lunch                        1000 non-null   object\n",
      " 4   test preparation course      1000 non-null   object\n",
      " 5   math score                   1000 non-null   int64 \n",
      " 6   reading score                1000 non-null   int64 \n",
      " 7   writing score                1000 non-null   int64 \n",
      "dtypes: int64(3), object(5)\n",
      "memory usage: 62.6+ KB\n"
     ]
    }
   ],
   "source": [
    "df.info()"
   ]
  },
  {
   "cell_type": "code",
   "execution_count": 57,
   "metadata": {},
   "outputs": [
    {
     "name": "stdout",
     "output_type": "stream",
     "text": [
      "Total Rows of The Dataset 1000\n",
      "Total Rows of The Dataset After Removing Duplicates 1000\n",
      "There are 0 duplicates in the dataset\n"
     ]
    },
    {
     "data": {
      "text/html": [
       "<div>\n",
       "<style scoped>\n",
       "    .dataframe tbody tr th:only-of-type {\n",
       "        vertical-align: middle;\n",
       "    }\n",
       "\n",
       "    .dataframe tbody tr th {\n",
       "        vertical-align: top;\n",
       "    }\n",
       "\n",
       "    .dataframe thead th {\n",
       "        text-align: right;\n",
       "    }\n",
       "</style>\n",
       "<table border=\"1\" class=\"dataframe\">\n",
       "  <thead>\n",
       "    <tr style=\"text-align: right;\">\n",
       "      <th></th>\n",
       "      <th>race/ethnicity</th>\n",
       "      <th>parental level of education</th>\n",
       "      <th>lunch</th>\n",
       "      <th>test preparation course</th>\n",
       "      <th>math score</th>\n",
       "      <th>reading score</th>\n",
       "      <th>writing score</th>\n",
       "    </tr>\n",
       "  </thead>\n",
       "  <tbody>\n",
       "    <tr>\n",
       "      <th>0</th>\n",
       "      <td>group B</td>\n",
       "      <td>bachelor's degree</td>\n",
       "      <td>standard</td>\n",
       "      <td>none</td>\n",
       "      <td>72</td>\n",
       "      <td>72</td>\n",
       "      <td>74</td>\n",
       "    </tr>\n",
       "    <tr>\n",
       "      <th>1</th>\n",
       "      <td>group C</td>\n",
       "      <td>some college</td>\n",
       "      <td>standard</td>\n",
       "      <td>completed</td>\n",
       "      <td>69</td>\n",
       "      <td>90</td>\n",
       "      <td>88</td>\n",
       "    </tr>\n",
       "    <tr>\n",
       "      <th>2</th>\n",
       "      <td>group B</td>\n",
       "      <td>master's degree</td>\n",
       "      <td>standard</td>\n",
       "      <td>none</td>\n",
       "      <td>90</td>\n",
       "      <td>95</td>\n",
       "      <td>93</td>\n",
       "    </tr>\n",
       "    <tr>\n",
       "      <th>3</th>\n",
       "      <td>group A</td>\n",
       "      <td>associate's degree</td>\n",
       "      <td>free/reduced</td>\n",
       "      <td>none</td>\n",
       "      <td>47</td>\n",
       "      <td>57</td>\n",
       "      <td>44</td>\n",
       "    </tr>\n",
       "    <tr>\n",
       "      <th>4</th>\n",
       "      <td>group C</td>\n",
       "      <td>some college</td>\n",
       "      <td>standard</td>\n",
       "      <td>none</td>\n",
       "      <td>76</td>\n",
       "      <td>78</td>\n",
       "      <td>75</td>\n",
       "    </tr>\n",
       "  </tbody>\n",
       "</table>\n",
       "</div>"
      ],
      "text/plain": [
       "  race/ethnicity parental level of education         lunch  \\\n",
       "0        group B           bachelor's degree      standard   \n",
       "1        group C                some college      standard   \n",
       "2        group B             master's degree      standard   \n",
       "3        group A          associate's degree  free/reduced   \n",
       "4        group C                some college      standard   \n",
       "\n",
       "  test preparation course  math score  reading score  writing score  \n",
       "0                    none          72             72             74  \n",
       "1               completed          69             90             88  \n",
       "2                    none          90             95             93  \n",
       "3                    none          47             57             44  \n",
       "4                    none          76             78             75  "
      ]
     },
     "execution_count": 57,
     "metadata": {},
     "output_type": "execute_result"
    }
   ],
   "source": [
    "# Filtering\n",
    "\n",
    "## Droping Duplicates\n",
    "\n",
    "total_rows = len(df.index)\n",
    "print(\"Total Rows of The Dataset\", total_rows)\n",
    "\n",
    "# Removing Duplicate Rows\n",
    "df.drop_duplicates(keep = False, inplace = True)\n",
    "\n",
    "# Total rows after removing duplicates\n",
    "total_rows_after_remove_duplicates = len(df.index)\n",
    "\n",
    "print(\"Total Rows of The Dataset After Removing Duplicates\", total_rows_after_remove_duplicates)\n",
    "print(\"There are {} duplicates in the dataset\".format(total_rows - total_rows_after_remove_duplicates))\n",
    "\n",
    "\n",
    "## Droping Gender\n",
    "\n",
    "df.drop('gender', axis='columns', inplace=True)\n",
    "df.head()\n"
   ]
  },
  {
   "cell_type": "code",
   "execution_count": 66,
   "metadata": {},
   "outputs": [
    {
     "name": "stdout",
     "output_type": "stream",
     "text": [
      "<class 'pandas.core.frame.DataFrame'>\n",
      "Int64Index: 1000 entries, 0 to 999\n",
      "Data columns (total 7 columns):\n",
      " #   Column                       Non-Null Count  Dtype  \n",
      "---  ------                       --------------  -----  \n",
      " 0   race/ethnicity               1000 non-null   float64\n",
      " 1   parental level of education  1000 non-null   float64\n",
      " 2   lunch                        1000 non-null   float64\n",
      " 3   test preparation course      1000 non-null   float64\n",
      " 4   math score                   1000 non-null   int64  \n",
      " 5   reading score                1000 non-null   int64  \n",
      " 6   writing score                1000 non-null   int64  \n",
      "dtypes: float64(4), int64(3)\n",
      "memory usage: 62.5 KB\n"
     ]
    }
   ],
   "source": [
    "# Transformation\n",
    "\n",
    "from sklearn.preprocessing import OrdinalEncoder\n",
    "\n",
    "ord_enc = OrdinalEncoder()\n",
    "for i in df.columns:\n",
    "    if df[i].dtypes=='object':\n",
    "        df[i] = ord_enc.fit_transform(df[[i]])\n",
    "    #train[i]=pd.get_dummies(train[i])\n",
    "\n",
    "df.info()"
   ]
  },
  {
   "cell_type": "code",
   "execution_count": 59,
   "metadata": {},
   "outputs": [
    {
     "data": {
      "text/plain": [
       "array([[<AxesSubplot:title={'center':'writing score'}>]], dtype=object)"
      ]
     },
     "execution_count": 59,
     "metadata": {},
     "output_type": "execute_result"
    },
    {
     "data": {
      "image/png": "[encoded data removed]",
      "text/plain": [
       "<Figure size 432x288 with 1 Axes>"
      ]
     },
     "metadata": {
      "needs_background": "light"
     },
     "output_type": "display_data"
    },
    {
     "data": {
      "image/png": "[encoded data removed]",
      "text/plain": [
       "<Figure size 432x288 with 1 Axes>"
      ]
     },
     "metadata": {
      "needs_background": "light"
     },
     "output_type": "display_data"
    },
    {
     "data": {
      "image/png": "[encoded data removed]",
      "text/plain": [
       "<Figure size 432x288 with 1 Axes>"
      ]
     },
     "metadata": {
      "needs_background": "light"
     },
     "output_type": "display_data"
    }
   ],
   "source": [
    "# Component Analysis\n",
    "\n",
    "df.hist(column = ['math score'], bins= 100)\n",
    "df.hist(column = ['reading score'], bins= 40)\n",
    "df.hist(column = ['writing score'], bins= 40)"
   ]
  },
  {
   "cell_type": "code",
   "execution_count": 60,
   "metadata": {},
   "outputs": [
    {
     "name": "stdout",
     "output_type": "stream",
     "text": [
      "Scatter Pliot Between Reading Score and Writing Score\n",
      "\n",
      "Scatter Pliot Between Reading Score and Writing Score\n"
     ]
    },
    {
     "data": {
      "text/plain": [
       "<AxesSubplot:xlabel='test preparation course', ylabel='writing score'>"
      ]
     },
     "execution_count": 60,
     "metadata": {},
     "output_type": "execute_result"
    },
    {
     "data": {
      "image/png": "[encoded data removed]",
      "text/plain": [
       "<Figure size 432x288 with 1 Axes>"
      ]
     },
     "metadata": {
      "needs_background": "light"
     },
     "output_type": "display_data"
    },
    {
     "data": {
      "image/png": "[encoded data removed]",
      "text/plain": [
       "<Figure size 432x288 with 1 Axes>"
      ]
     },
     "metadata": {
      "needs_background": "light"
     },
     "output_type": "display_data"
    }
   ],
   "source": [
    "# Visualization\n",
    "\n",
    "print(\"Scatter Pliot Between Reading Score and Writing Score\")\n",
    "df.plot.scatter(x='reading score',y='writing score')\n",
    "\n",
    "print(\"\\nScatter Pliot Between Reading Score and Writing Score\")\n",
    "df.plot.scatter(x='test preparation course',y='writing score')"
   ]
  },
  {
   "cell_type": "code",
   "execution_count": 61,
   "metadata": {
    "scrolled": true
   },
   "outputs": [
    {
     "name": "stdout",
     "output_type": "stream",
     "text": [
      "\n",
      "Highest positive Correlation:  0.954598077146248\n",
      "\n",
      "The Correlation is between  reading score and writing score columns\n",
      "\n",
      "\n",
      "\n",
      "Highest negative Correlation:  -0.31294628448595657\n",
      "\n",
      "The Correlation is between  test preparation course and writing score columns\n",
      "\n",
      "\n",
      "Correlation between writing score vs rest of the columns:\n",
      "\n",
      "writing score                  1.000000\n",
      "reading score                  0.954598\n",
      "math score                     0.802642\n",
      "lunch                          0.245769\n",
      "race/ethnicity                 0.165691\n",
      "parental level of education   -0.084299\n",
      "test preparation course       -0.312946\n",
      "Name: writing score, dtype: float64\n"
     ]
    }
   ],
   "source": [
    "# Correlation Analysis of the attributes\n",
    "\n",
    "\n",
    "maximum = -99999\n",
    "\n",
    "for i in df.columns:\n",
    "    for j in df.columns:\n",
    "        if i==j:\n",
    "            continue\n",
    "        else:\n",
    "            correlation = df[i].corr(df[j])\n",
    "            if correlation > maximum:\n",
    "                maximum = correlation\n",
    "                maximum_index1 = i\n",
    "                maximum_index2 = j\n",
    "                    \n",
    "print('\\nHighest positive Correlation: ',maximum)      \n",
    "print('\\nThe Correlation is between ',maximum_index1,'and',maximum_index2,'columns') \n",
    "\n",
    "print(\"\\n\")\n",
    "\n",
    "minimum = 99999\n",
    "\n",
    "for i in df.columns:\n",
    "    for j in df.columns:\n",
    "        if i==j:\n",
    "            continue\n",
    "        else:\n",
    "            correlation = df[i].corr(df[j])\n",
    "            if correlation < minimum:\n",
    "                minimum = correlation\n",
    "                minimum_index1 = i\n",
    "                minimum_index2 = j\n",
    "                    \n",
    "print('\\nHighest negative Correlation: ',minimum)      \n",
    "print('\\nThe Correlation is between ',minimum_index1,'and',minimum_index2,'columns') \n",
    "\n",
    "print(\"\\n\\nCorrelation between writing score vs rest of the columns:\\n\")\n",
    "corr_matrix=df.corr()\n",
    "print(corr_matrix[\"writing score\"].sort_values(ascending=False))"
   ]
  },
  {
   "cell_type": "code",
   "execution_count": 62,
   "metadata": {
    "scrolled": false
   },
   "outputs": [
    {
     "name": "stdout",
     "output_type": "stream",
     "text": [
      "[[ 0.68533525  0.84610897  0.72299881  0.72779143 -0.24218231 -0.40097854]\n",
      " [-1.05396255 -0.79389009  0.72299881  0.72779143 -0.04103089 -0.68310573]\n",
      " [-1.05396255  1.39277532 -1.38312815 -1.37402003  0.49537291  1.43284823]\n",
      " ...\n",
      " [-0.18431365 -1.34055644  0.72299881  0.72779143 -0.91268706 -0.54204214]\n",
      " [-0.18431365  0.84610897 -1.38312815 -1.37402003 -1.11383848 -1.52948732]\n",
      " [ 0.68533525 -1.34055644  0.72299881  0.72779143  1.23292813  1.50338003]]\n"
     ]
    }
   ],
   "source": [
    "## PCA\n",
    "\n",
    "#train_test_split\n",
    "from sklearn.model_selection import train_test_split\n",
    "X = df.drop('writing score',axis=1)\n",
    "Y = df['writing score']\n",
    "X_train, X_test, y_train, y_test = train_test_split(X, Y, test_size=0.33, random_state=42)\n",
    "#%%\n",
    "from sklearn.preprocessing import StandardScaler\n",
    "Standard_Scaler = StandardScaler()\n",
    "Standard_Scaler.fit(X_train)\n",
    "X_Standard = Standard_Scaler.fit_transform(X_train)\n",
    "print(X_Standard)\n",
    "#%%\n",
    "#pca\n",
    "from sklearn.decomposition import PCA\n",
    "pca = PCA(0.95)\n",
    "pca.fit(X_Standard)\n",
    "X_ = pca"
   ]
  },
  {
   "cell_type": "code",
   "execution_count": 63,
   "metadata": {},
   "outputs": [
    {
     "data": {
      "image/png": "[encoded data removed]",
      "text/plain": [
       "<Figure size 432x288 with 2 Axes>"
      ]
     },
     "metadata": {
      "needs_background": "light"
     },
     "output_type": "display_data"
    }
   ],
   "source": [
    "import matplotlib.pyplot as plt\n",
    "import seaborn as sns\n",
    "sns.heatmap(df.corr());"
   ]
  },
  {
   "cell_type": "code",
   "execution_count": 64,
   "metadata": {
    "scrolled": true
   },
   "outputs": [
    {
     "name": "stdout",
     "output_type": "stream",
     "text": [
      "[ 84.53253312  65.09171094  72.19911945  73.81854268  83.98066674\n",
      "  73.46059471  70.40274594  61.21875925  71.69181099  54.68939106\n",
      "  44.71521685  26.18686811  78.98916779  61.78941595  81.92758529\n",
      "  77.87327681  51.39562103  45.44676778  55.98594815  62.95512102\n",
      "  70.5568733   51.76604805  71.2887681   50.24015994  78.83046513\n",
      "  74.20783853  75.17794967  57.10593664  47.75090661  55.4306264\n",
      "  59.11281142  62.96358153  60.70127126  69.87226204  75.77752944\n",
      "  50.07490774  75.95835205  74.63149229  75.66610707  14.91510388\n",
      "  76.78115989  66.38620677  63.31190954  60.18158809  84.8731127\n",
      "  64.7750521   68.13674124  28.84468232  88.32189096  81.77180055\n",
      "  75.09487267  74.20648431  79.47648703  55.72342815  70.51283223\n",
      "  71.90629677  77.19598834  53.58741592  83.10355246  89.03181786\n",
      "  42.30276878  82.56757778  75.78835111  58.08126988  88.5257325\n",
      "  73.96698324  67.58096426  51.54792947  63.23710109  92.48952775\n",
      "  65.55691304  85.58881262  54.74081983  53.72816968  61.11524062\n",
      "  77.03193831  86.46957782  54.25010605  62.37370428  50.41299177\n",
      "  58.95185556  35.93489752  76.61854664  69.28461988  68.82942222\n",
      "  64.4360872   78.2357775   69.73550308  89.16322945  21.5631963\n",
      "  77.9283565   90.31325976  57.94768685  73.45436647  35.77468533\n",
      "  67.56475125  61.40217729  66.76781582  77.83123209  68.13991881\n",
      "  78.99461951  56.5860875   56.23805939  70.38404146  71.52442806\n",
      "  63.58512593  45.71381958  78.69694374  82.57532621  58.76632771\n",
      "  39.42642708  82.82264926  49.83522878  56.61202435  79.38265281\n",
      "  55.19094744  52.0204774   44.2697028   70.14204484  77.47571522\n",
      "  62.97556265  64.05224307  79.13932292  77.62756843  61.46524414\n",
      "  64.67462484  76.56256796  74.06025789  42.5640685   73.15185939\n",
      "  78.75412458  74.20783853  41.27292368  98.93440309  71.98282423\n",
      "  39.16879922  91.86143381  82.90931274  70.64212173  48.50521682\n",
      "  54.73152116  70.19755018  59.24100637  47.30715064  75.54745232\n",
      "  58.16664359  30.75033518  72.05553198  53.02612559  83.82522422\n",
      "  80.16232138  85.28634904  63.80723767  60.56788426  88.05272935\n",
      "  68.67956581  54.90607202  69.21723857  75.29244528  51.05049153\n",
      "  78.74448368  63.95383393  79.20103556  55.99522869  82.66540516\n",
      "  71.84059098  46.86155482  87.29434258  65.28908472  74.13193227\n",
      "  83.8745708   70.63995029  88.70348188  84.64200265  46.12055737\n",
      "  32.18623019  51.45248057  79.88506912  92.15857094  81.49802458\n",
      "  61.7669747   72.83911194  94.03298309  60.82151895  83.57779683\n",
      "  55.38057279  69.62410164  57.87970692  65.41212341  84.18021195\n",
      "  50.13797459  52.90325708  65.6728245   76.14540009  52.92458238\n",
      "  57.82939691  58.97068532  77.15899273  74.87859839  74.0122446\n",
      "  68.06660799  82.1425698   85.29676646  64.18730559  63.72673799\n",
      "  23.262302   100.09523413  77.17646828  65.90204254  54.88870082\n",
      "  61.9303826   59.33967191  65.96057759  66.65180002  64.56320246\n",
      "  37.51918631  63.30705645  59.22255828  84.31162354  85.23651239\n",
      "  64.6680753   55.95120856  81.34878938  84.57290233  28.1454518\n",
      "  91.78234997  61.82153754  62.75357618  79.88053733  61.39253639\n",
      "  71.56649372  61.07716813  57.2772918   54.83469756  41.18861775\n",
      "  62.80326499  42.9127178   74.95923246  61.64608487  76.91534155\n",
      "  54.29676513  41.06740662  94.80861579  54.15465715  88.46715394\n",
      "  62.10096124  64.02525191  78.61442631  38.15688209  84.57913057\n",
      "  47.3684167   80.92058288  61.85877267  61.49775147  61.42000091\n",
      "  50.06241056  77.17237078 100.90896026  65.19353148  80.37700272\n",
      "  43.7996476   84.27522656  72.79423272  72.75616022  64.75939992\n",
      "  75.4275078   59.48186165  83.61393415  59.5548693   99.77542028\n",
      "  80.75539513  60.69851932  82.09195662  49.62681637  56.52210072\n",
      "  56.4195246   68.25928564  55.53152702  43.41900199  60.54099743\n",
      "  59.97094343  81.30387025  78.68412526  69.14526384  27.0894936\n",
      "  96.65356216  87.06612787  71.86161311  49.8062622   73.09637499\n",
      "  79.71021509  68.71340642  88.07111254  60.16215845  56.11216442\n",
      "  86.53180732  61.16666938  56.17742364  40.70662495  88.04873619\n",
      "  82.45841142  80.6109695   65.30179885  58.26157563  78.49218226\n",
      "  74.75801173  90.24452424  52.43156908  88.59169469  70.86678985\n",
      "  99.86779595  68.71793821  77.00438758  57.81659656  45.01778477\n",
      "  56.04723515  68.15718286  77.6583358   88.06464884  58.75690377\n",
      "  66.54295495  76.08634817  84.10385328  54.5222279   41.6238697\n",
      "  67.7202554   76.27339621  72.05385647  85.37810351  81.06584586]\n"
     ]
    }
   ],
   "source": [
    "# Linear Regression\n",
    "\n",
    "from sklearn.model_selection import train_test_split \n",
    "from sklearn.linear_model import LinearRegression\n",
    "\n",
    "X = df.drop('writing score',axis=1)\n",
    "Y = df['writing score']\n",
    "X_train, X_test, y_train, y_test = train_test_split(X, Y, test_size=0.33, random_state=42)\n",
    "\n",
    "regression = LinearRegression() \n",
    "regression.fit(X_train, y_train)\n",
    "\n",
    "y_pred = regression.predict(X_test)\n",
    "\n",
    "print(y_pred)"
   ]
  },
  {
   "cell_type": "code",
   "execution_count": 65,
   "metadata": {},
   "outputs": [
    {
     "ename": "SyntaxError",
     "evalue": "invalid syntax (<ipython-input-65-e9081aed7413>, line 1)",
     "output_type": "error",
     "traceback": [
      "\u001b[1;36m  File \u001b[1;32m\"<ipython-input-65-e9081aed7413>\"\u001b[1;36m, line \u001b[1;32m1\u001b[0m\n\u001b[1;33m    Merge columns\u001b[0m\n\u001b[1;37m          ^\u001b[0m\n\u001b[1;31mSyntaxError\u001b[0m\u001b[1;31m:\u001b[0m invalid syntax\n"
     ]
    }
   ],
   "source": [
    "Merge columns"
   ]
  }
 ],
 "metadata": {
  "kernelspec": {
   "display_name": "Python 3",
   "language": "python",
   "name": "python3"
  },
  "language_info": {
   "codemirror_mode": {
    "name": "ipython",
    "version": 3
   },
   "file_extension": ".py",
   "mimetype": "text/x-python",
   "name": "python",
   "nbconvert_exporter": "python",
   "pygments_lexer": "ipython3",
   "version": "3.8.5"
  }
 },
 "nbformat": 4,
 "nbformat_minor": 4
}
